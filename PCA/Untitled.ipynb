{
 "cells": [
  {
   "cell_type": "code",
   "execution_count": 1,
   "id": "16fea3a3",
   "metadata": {},
   "outputs": [],
   "source": [
    "#importing important modules\n",
    "import pandas as pd\n",
    "import numpy as np\n",
    "import matplotlib.pyplot as plt"
   ]
  },
  {
   "cell_type": "code",
   "execution_count": 2,
   "id": "1b54c724",
   "metadata": {},
   "outputs": [],
   "source": [
    "#importing dataset\n",
    "dataset = pd.read_csv(\"Wine.csv\")\n",
    "x = dataset.iloc[:,:-1].values\n",
    "y = dataset.iloc[:,-1].values\n"
   ]
  },
  {
   "cell_type": "code",
   "execution_count": 3,
   "id": "eb2b370f",
   "metadata": {},
   "outputs": [],
   "source": [
    "#spliting dataset into training and test data sets\n",
    "from sklearn.model_selection import train_test_split\n",
    "x_train, x_test, y_train, y_test = train_test_split(x, y, test_size = 0.2, random_state = 0)"
   ]
  },
  {
   "cell_type": "code",
   "execution_count": 4,
   "id": "f20b90e0",
   "metadata": {},
   "outputs": [
    {
     "data": {
      "text/plain": [
       "array([[1.369e+01, 3.260e+00, 2.540e+00, ..., 9.600e-01, 1.820e+00,\n",
       "        6.800e+02],\n",
       "       [1.269e+01, 1.530e+00, 2.260e+00, ..., 9.600e-01, 2.060e+00,\n",
       "        4.950e+02],\n",
       "       [1.162e+01, 1.990e+00, 2.280e+00, ..., 1.160e+00, 2.960e+00,\n",
       "        3.450e+02],\n",
       "       ...,\n",
       "       [1.242e+01, 1.610e+00, 2.190e+00, ..., 1.060e+00, 2.960e+00,\n",
       "        3.450e+02],\n",
       "       [1.390e+01, 1.680e+00, 2.120e+00, ..., 9.100e-01, 3.330e+00,\n",
       "        9.850e+02],\n",
       "       [1.416e+01, 2.510e+00, 2.480e+00, ..., 6.200e-01, 1.710e+00,\n",
       "        6.600e+02]])"
      ]
     },
     "execution_count": 4,
     "metadata": {},
     "output_type": "execute_result"
    }
   ],
   "source": [
    "x_train"
   ]
  },
  {
   "cell_type": "code",
   "execution_count": 5,
   "id": "9ce56391",
   "metadata": {},
   "outputs": [
    {
     "data": {
      "text/plain": [
       "array([3, 2, 2, 3, 1, 1, 2, 2, 2, 1, 3, 2, 3, 1, 3, 3, 1, 3, 1, 2, 3, 3,\n",
       "       2, 3, 3, 1, 2, 3, 2, 2, 3, 2, 1, 2, 2, 2, 1, 1, 2, 2, 3, 3, 2, 2,\n",
       "       2, 3, 3, 1, 3, 2, 2, 2, 2, 2, 1, 1, 2, 1, 3, 1, 3, 1, 1, 2, 1, 2,\n",
       "       2, 1, 3, 2, 1, 2, 2, 2, 3, 1, 3, 3, 1, 1, 2, 3, 1, 1, 2, 2, 1, 1,\n",
       "       1, 3, 2, 1, 2, 3, 1, 2, 3, 3, 1, 1, 3, 1, 3, 2, 1, 1, 2, 1, 3, 2,\n",
       "       3, 1, 3, 3, 3, 1, 2, 2, 2, 2, 3, 3, 2, 2, 1, 2, 3, 3, 1, 1, 3, 2,\n",
       "       2, 2, 1, 1, 1, 2, 2, 2, 1, 3], dtype=int64)"
      ]
     },
     "execution_count": 5,
     "metadata": {},
     "output_type": "execute_result"
    }
   ],
   "source": [
    "y_train"
   ]
  },
  {
   "cell_type": "code",
   "execution_count": 6,
   "id": "6629ef84",
   "metadata": {},
   "outputs": [],
   "source": [
    "#Feature Scallling \n",
    "from sklearn.preprocessing import StandardScaler \n",
    "sc = StandardScaler()\n",
    "x_train = sc.fit_transform(x_train)\n",
    "x_test = sc.transform(x_test)"
   ]
  },
  {
   "cell_type": "code",
   "execution_count": 7,
   "id": "c7db9579",
   "metadata": {},
   "outputs": [
    {
     "data": {
      "text/plain": [
       "array([[ 0.87668336,  0.79842885,  0.64412971, ...,  0.0290166 ,\n",
       "        -1.06412236, -0.2059076 ],\n",
       "       [-0.36659076, -0.7581304 , -0.39779858, ...,  0.0290166 ,\n",
       "        -0.73083231, -0.81704676],\n",
       "       [-1.69689407, -0.34424759, -0.32337513, ...,  0.90197362,\n",
       "         0.51900537, -1.31256499],\n",
       "       ...,\n",
       "       [-0.70227477, -0.68615078, -0.65828065, ...,  0.46549511,\n",
       "         0.51900537, -1.31256499],\n",
       "       [ 1.13777093, -0.62316862, -0.91876272, ..., -0.18922266,\n",
       "         1.03282752,  0.80164614],\n",
       "       [ 1.4610222 ,  0.12361993,  0.42085937, ..., -1.45501034,\n",
       "        -1.2168803 , -0.2719767 ]])"
      ]
     },
     "execution_count": 7,
     "metadata": {},
     "output_type": "execute_result"
    }
   ],
   "source": [
    "x_train"
   ]
  },
  {
   "cell_type": "code",
   "execution_count": 8,
   "id": "f357f76b",
   "metadata": {},
   "outputs": [
    {
     "data": {
      "text/plain": [
       "array([[ 9.38847070e-01, -6.32166068e-01, -4.35010303e-01,\n",
       "        -9.19695615e-01,  1.26324041e+00,  5.59998633e-01,\n",
       "         9.77754158e-01, -1.20637533e+00,  2.36680192e-02,\n",
       "         3.39284695e-01, -1.45574805e-01,  8.52295413e-01,\n",
       "         1.04940526e+00],\n",
       "       [-2.42263344e-01,  2.67579163e-01,  4.20859365e-01,\n",
       "         7.12764102e-01,  8.40672358e-01, -1.27747161e+00,\n",
       "        -6.05828120e-01, -9.70634096e-01, -5.87397203e-01,\n",
       "         2.42611713e+00, -2.06608025e+00, -1.55017035e+00,\n",
       "        -8.66598582e-01],\n",
       "       [-7.64438475e-01, -1.11802849e+00, -7.69915825e-01,\n",
       "        -1.61767889e-01, -9.20027861e-01,  2.03653722e+00,\n",
       "         1.18341419e+00, -1.36353615e+00,  4.48018868e-01,\n",
       "        -2.50930538e-01,  1.16386073e+00,  3.94021597e-01,\n",
       "        -1.06480588e+00],\n",
       "       [ 7.15057728e-01, -5.78181354e-01,  3.46435916e-01,\n",
       "         2.75498106e-01,  1.12238439e+00,  1.15061407e+00,\n",
       "         8.54358136e-01, -1.28495574e+00,  1.43251284e+00,\n",
       "         5.07917619e-01,  1.16312302e-01,  6.16214963e-01,\n",
       "         1.24761256e+00],\n",
       "       [ 8.09879269e-02,  3.08378173e+00, -8.81550999e-01,\n",
       "         5.67008770e-01, -9.90455870e-01,  5.92810602e-01,\n",
       "         7.20679112e-01, -4.99151627e-01,  6.85655343e-01,\n",
       "        -1.03085781e+00, -9.74883977e-01,  7.13424560e-01,\n",
       "        -1.19694407e+00],\n",
       "       [-1.77149051e+00, -2.90262880e-01,  3.21173872e+00,\n",
       "         2.60758342e+00,  1.33366842e+00,  1.51154572e+00,\n",
       "         3.21944855e+00,  8.36715367e-01,  4.48018868e-01,\n",
       "         4.02522042e-01, -1.01926954e-01,  1.53276259e+00,\n",
       "        -9.16150406e-01],\n",
       "       [ 1.33669479e+00, -2.00288357e-01,  9.04611787e-01,\n",
       "        -5.69882819e-01,  1.47452444e+00,  5.59998633e-01,\n",
       "         5.76717087e-01, -4.20571216e-01, -6.04371237e-01,\n",
       "         2.01884783e-03,  4.65495111e-01,  1.38000466e+00,\n",
       "         1.82571717e+00],\n",
       "       [-7.76871216e-01,  1.31128363e+00,  4.87421183e-02,\n",
       "         4.21253438e-01, -8.49599852e-01,  6.78191041e-02,\n",
       "        -1.05828020e+00,  1.07245660e+00, -9.60825950e-01,\n",
       "         1.09813285e+00, -1.71689745e+00, -1.39741241e+00,\n",
       "        -7.34460386e-01],\n",
       "       [-9.13631369e-01, -5.78181354e-01, -9.18762724e-01,\n",
       "        -1.61767889e-01, -1.41302392e+00, -9.98569875e-01,\n",
       "         8.31330005e-02,  5.09112525e-02,  4.06420531e-02,\n",
       "        -6.93591962e-01,  2.03608004e-01,  8.10634157e-01,\n",
       "        -7.67494935e-01],\n",
       "       [-1.12498797e+00, -4.88206831e-01, -1.74528230e-01,\n",
       "        -3.07523221e-01, -1.34259591e+00, -1.08059980e+00,\n",
       "        -4.61866095e-01,  1.22961742e+00,  5.76160871e-02,\n",
       "        -1.11517427e+00,  5.52790813e-01, -4.39203523e-01,\n",
       "        -8.66598582e-01],\n",
       "       [ 4.66402904e-01,  1.68607187e-01, -6.28930558e-02,\n",
       "         1.29742774e-01, -7.79171843e-01, -1.40871948e+00,\n",
       "        -1.49016628e+00,  5.09112525e-02, -1.63978731e+00,\n",
       "         2.33889118e-01, -1.10582753e+00, -1.61461816e-01,\n",
       "         1.24437889e-01],\n",
       "       [ 1.11290545e+00,  2.39997536e+00, -5.09433752e-01,\n",
       "         1.29742774e-01, -1.41302392e+00, -2.09777082e+00,\n",
       "        -1.65469430e+00,  2.86652487e-01, -1.57189117e+00,\n",
       "        -6.12184986e-02, -1.62960174e+00, -1.74458954e+00,\n",
       "        -1.08132315e+00],\n",
       "       [ 1.51075317e+00, -5.51188997e-01,  3.09224191e-01,\n",
       "        -1.26950841e+00,  8.40672358e-01,  1.65919958e+00,\n",
       "         1.48162125e+00, -1.84829982e-01,  6.17759208e-01,\n",
       "         7.18708773e-01,  4.21847260e-01,  3.66247427e-01,\n",
       "         2.33775268e+00],\n",
       "       [-7.64438475e-01, -1.17201321e+00, -9.93186174e-01,\n",
       "        -3.07523221e-01, -8.49599852e-01,  2.06934919e+00,\n",
       "         1.85180931e+00, -9.70634096e-01,  5.83811140e-01,\n",
       "        -2.29851422e-01,  3.78199409e-01,  2.55150744e-01,\n",
       "        -2.71976699e-01],\n",
       "       [ 7.39923211e-01,  1.86602092e-01,  1.20230558e+00,\n",
       "         1.44154076e+00,  3.47676297e-01, -1.16262972e+00,\n",
       "        -1.14054421e+00,  2.08072075e-01, -1.12124252e-01,\n",
       "         1.52393098e+00, -9.31236125e-01, -1.09189653e+00,\n",
       "         2.53342422e-02],\n",
       "       [-1.22444990e+00, -1.30697499e+00, -1.36530342e+00,\n",
       "        -1.61767889e-01, -9.90455870e-01,  2.64690916e-01,\n",
       "         3.19642042e-01, -4.99151627e-01, -2.98838626e-01,\n",
       "        -1.07301604e+00,  1.86222635e+00,  7.41198731e-01,\n",
       "        -1.53389647e+00],\n",
       "       [ 9.63712552e-01, -7.58130400e-01,  1.23951731e+00,\n",
       "        -1.60125576e-02,  2.24923253e+00,  1.13420808e+00,\n",
       "         8.13226129e-01,  1.07245660e+00, -4.34630898e-01,\n",
       "         1.49572656e-01,  1.29480428e+00,  5.74553707e-01,\n",
       "         1.62750987e+00],\n",
       "       [ 1.49832042e+00, -7.04145686e-01,  4.20859365e-01,\n",
       "        -8.90544549e-01,  5.58960323e-01,  1.70841753e+00,\n",
       "         2.03690334e+00, -3.41990805e-01,  4.31044834e-01,\n",
       "         1.54079428e+00,  1.20750858e+00,  3.24586171e-01,\n",
       "         3.09754730e+00],\n",
       "       [-4.28754462e-01, -9.11087089e-01, -1.29087997e+00,\n",
       "        -8.03091350e-01, -4.46374703e-03, -3.91548456e-01,\n",
       "        -5.54413111e-01,  1.30819784e+00, -1.67373538e+00,\n",
       "         2.97126464e-01,  1.16312302e-01, -1.38352533e+00,\n",
       "        -9.65702229e-01],\n",
       "       [ 1.05074174e+00, -6.50160973e-01,  8.67400062e-01,\n",
       "        -6.86487084e-01, -4.27031800e-01,  3.13908869e-01,\n",
       "         1.07030117e+00, -1.12779492e+00,  1.16092829e+00,\n",
       "         2.33889118e-01,  1.25115643e+00,  1.08837586e+00,\n",
       "         1.72661352e+00],\n",
       "       [ 1.55584374e-01, -1.22599792e+00, -2.48165516e+00,\n",
       "        -1.32781054e+00, -1.55387994e+00,  1.18342604e+00,\n",
       "         1.26567821e+00, -8.13473273e-01,  1.14395426e+00,\n",
       "         1.07414425e-01,  7.27382218e-01,  8.24521243e-01,\n",
       "        -7.93922574e-01],\n",
       "       [ 8.09879269e-02, -6.50160973e-01,  6.81341438e-01,\n",
       "        -4.53278553e-01, -1.45319765e-01,  3.13908869e-01,\n",
       "         4.94453073e-01, -5.77732039e-01, -2.81864592e-01,\n",
       "        -3.35247000e-01,  7.27382218e-01, -1.05913475e-01,\n",
       "         1.19806073e+00],\n",
       "       [ 3.17210010e-01,  1.95599544e-01,  1.87211663e+00,\n",
       "         4.21253438e-01,  1.26324041e+00,  8.88118319e-01,\n",
       "         7.61811120e-01,  2.08072075e-01,  3.63148698e-01,\n",
       "        -3.05736238e-01,  3.78199409e-01,  4.77344109e-01,\n",
       "        -2.42175814e-02],\n",
       "       [-5.90380098e-01, -5.78181354e-01, -1.43972687e+00,\n",
       "         2.75498106e-01, -1.06088388e+00, -9.62407389e-02,\n",
       "        -2.99800193e-02, -3.41990805e-01, -2.13968456e-01,\n",
       "        -8.87519825e-01,  3.78199409e-01,  1.36611757e+00,\n",
       "        -2.32335240e-01],\n",
       "       [-8.14169440e-01, -1.14502085e+00, -3.23375129e-01,\n",
       "        -1.03629988e+00,  6.59642617e-02, -3.42330503e-01,\n",
       "        -8.83469169e-01,  2.09400195e+00, -2.03019009e+00,\n",
       "        -7.48397663e-01,  1.29480428e+00, -1.27242864e+00,\n",
       "        -2.05907601e-01],\n",
       "       [-5.77947357e-01,  5.16403072e-02, -7.32704101e-01,\n",
       "         4.21253438e-01, -8.49599852e-01,  4.77968712e-01,\n",
       "         3.29925044e-01, -8.13473273e-01, -6.55293339e-01,\n",
       "        -1.28380720e+00, -2.32870507e-01,  2.69037829e-01,\n",
       "        -1.37863409e+00],\n",
       "       [-6.89842028e-01, -7.58130400e-01, -2.86163404e-01,\n",
       "         5.67008770e-01, -9.90455870e-01,  7.89682413e-01,\n",
       "         1.23482920e+00,  2.08072075e-01,  2.78278529e-01,\n",
       "        -4.65937515e-01, -1.14947538e+00,  3.52360341e-01,\n",
       "        -1.28944081e+00],\n",
       "       [-1.02552604e+00, -6.86150782e-01, -2.11739955e-01,\n",
       "         9.45972633e-01, -7.08743835e-01, -7.85292079e-01,\n",
       "        -2.66489061e-01,  5.22393721e-01, -7.81761846e-02,\n",
       "        -1.09409516e+00,  1.64398709e+00, -4.53090608e-01,\n",
       "        -8.17046759e-01],\n",
       "       [-1.52283569e+00,  2.76576615e-01,  2.05817525e+00,\n",
       "         1.29742774e-01,  2.06820279e-01, -8.34510032e-01,\n",
       "         8.31330005e-02,  1.85826072e+00, -9.43851916e-01,\n",
       "        -5.24959039e-01,  1.20750858e+00, -1.19800560e-01,\n",
       "        -4.47059809e-01],\n",
       "       [ 9.88578035e-01,  3.48556233e-01, -2.48951679e-01,\n",
       "         7.12764102e-01, -7.08743835e-01, -1.49074940e+00,\n",
       "        -1.30507224e+00,  3.65232898e-01, -9.77799984e-01,\n",
       "         1.91178671e+00, -1.10582753e+00, -1.25854156e+00,\n",
       "        -4.20632170e-01],\n",
       "       [ 5.03701128e-01, -5.42191545e-01,  9.41823511e-01,\n",
       "        -1.00714881e+00, -4.97459808e-01,  9.70148241e-01,\n",
       "         1.01888616e+00, -1.84829982e-01, -2.64890558e-01,\n",
       "        -1.03376729e-01, -1.45574805e-01,  8.80069584e-01,\n",
       "         1.49537167e+00],\n",
       "       [ 1.53561865e+00, -6.05173711e-01, -2.48951679e-01,\n",
       "        -9.48846682e-01,  1.26324041e+00,  1.54435769e+00,\n",
       "         1.08058418e+00, -8.13473273e-01,  7.19603411e-01,\n",
       "         5.62723319e-01, -5.82791026e-02,  1.00505335e+00,\n",
       "         7.52094321e-01],\n",
       "       [-1.17471893e+00,  1.73416389e+00,  4.87421183e-02,\n",
       "         7.12764102e-01, -1.41302392e+00, -2.60300582e-01,\n",
       "        -2.04791050e-01,  4.43813310e-01, -4.34630898e-01,\n",
       "        -1.03085781e+00, -7.12996870e-01, -2.25909628e-02,\n",
       "        -5.36253092e-01],\n",
       "       [ 1.52318591e+00,  1.50023013e+00,  2.72012467e-01,\n",
       "        -1.90918956e-01,  7.70244349e-01,  9.70148241e-01,\n",
       "         7.20679112e-01, -4.99151627e-01, -6.04371237e-01,\n",
       "         8.21194866e-02, -3.63814061e-01,  1.03282752e+00,\n",
       "         1.11547436e+00],\n",
       "       [ 2.29401586e+00, -6.59158425e-01, -7.32704101e-01,\n",
       "        -1.61932121e+00, -2.15747773e-01,  8.88118319e-01,\n",
       "         1.06001817e+00, -5.77732039e-01,  6.34733242e-01,\n",
       "         6.52561942e-02,  5.52790813e-01,  3.66247427e-01,\n",
       "         9.99853439e-01],\n",
       "       [ 8.09879269e-02, -5.42191545e-01, -9.93186174e-01,\n",
       "        -7.44789217e-01,  4.88532314e-01,  1.21623801e+00,\n",
       "         1.08058418e+00, -6.56312450e-01,  7.19603411e-01,\n",
       "        -2.19697526e-03, -3.20166209e-01,  1.06060169e+00,\n",
       "         4.71300654e-01]])"
      ]
     },
     "execution_count": 8,
     "metadata": {},
     "output_type": "execute_result"
    }
   ],
   "source": [
    "x_test"
   ]
  },
  {
   "cell_type": "code",
   "execution_count": 9,
   "id": "77788c7c",
   "metadata": {},
   "outputs": [],
   "source": [
    "#applying pca\n",
    "from sklearn.decomposition import PCA\n",
    "pca = PCA(n_components = 2)\n",
    "x_train = pca.fit_transform(x_train)\n",
    "x_test = pca.transform(x_test)"
   ]
  },
  {
   "cell_type": "code",
   "execution_count": 10,
   "id": "bfc69e14",
   "metadata": {},
   "outputs": [
    {
     "data": {
      "text/html": [
       "<style>#sk-container-id-1 {color: black;}#sk-container-id-1 pre{padding: 0;}#sk-container-id-1 div.sk-toggleable {background-color: white;}#sk-container-id-1 label.sk-toggleable__label {cursor: pointer;display: block;width: 100%;margin-bottom: 0;padding: 0.3em;box-sizing: border-box;text-align: center;}#sk-container-id-1 label.sk-toggleable__label-arrow:before {content: \"▸\";float: left;margin-right: 0.25em;color: #696969;}#sk-container-id-1 label.sk-toggleable__label-arrow:hover:before {color: black;}#sk-container-id-1 div.sk-estimator:hover label.sk-toggleable__label-arrow:before {color: black;}#sk-container-id-1 div.sk-toggleable__content {max-height: 0;max-width: 0;overflow: hidden;text-align: left;background-color: #f0f8ff;}#sk-container-id-1 div.sk-toggleable__content pre {margin: 0.2em;color: black;border-radius: 0.25em;background-color: #f0f8ff;}#sk-container-id-1 input.sk-toggleable__control:checked~div.sk-toggleable__content {max-height: 200px;max-width: 100%;overflow: auto;}#sk-container-id-1 input.sk-toggleable__control:checked~label.sk-toggleable__label-arrow:before {content: \"▾\";}#sk-container-id-1 div.sk-estimator input.sk-toggleable__control:checked~label.sk-toggleable__label {background-color: #d4ebff;}#sk-container-id-1 div.sk-label input.sk-toggleable__control:checked~label.sk-toggleable__label {background-color: #d4ebff;}#sk-container-id-1 input.sk-hidden--visually {border: 0;clip: rect(1px 1px 1px 1px);clip: rect(1px, 1px, 1px, 1px);height: 1px;margin: -1px;overflow: hidden;padding: 0;position: absolute;width: 1px;}#sk-container-id-1 div.sk-estimator {font-family: monospace;background-color: #f0f8ff;border: 1px dotted black;border-radius: 0.25em;box-sizing: border-box;margin-bottom: 0.5em;}#sk-container-id-1 div.sk-estimator:hover {background-color: #d4ebff;}#sk-container-id-1 div.sk-parallel-item::after {content: \"\";width: 100%;border-bottom: 1px solid gray;flex-grow: 1;}#sk-container-id-1 div.sk-label:hover label.sk-toggleable__label {background-color: #d4ebff;}#sk-container-id-1 div.sk-serial::before {content: \"\";position: absolute;border-left: 1px solid gray;box-sizing: border-box;top: 0;bottom: 0;left: 50%;z-index: 0;}#sk-container-id-1 div.sk-serial {display: flex;flex-direction: column;align-items: center;background-color: white;padding-right: 0.2em;padding-left: 0.2em;position: relative;}#sk-container-id-1 div.sk-item {position: relative;z-index: 1;}#sk-container-id-1 div.sk-parallel {display: flex;align-items: stretch;justify-content: center;background-color: white;position: relative;}#sk-container-id-1 div.sk-item::before, #sk-container-id-1 div.sk-parallel-item::before {content: \"\";position: absolute;border-left: 1px solid gray;box-sizing: border-box;top: 0;bottom: 0;left: 50%;z-index: -1;}#sk-container-id-1 div.sk-parallel-item {display: flex;flex-direction: column;z-index: 1;position: relative;background-color: white;}#sk-container-id-1 div.sk-parallel-item:first-child::after {align-self: flex-end;width: 50%;}#sk-container-id-1 div.sk-parallel-item:last-child::after {align-self: flex-start;width: 50%;}#sk-container-id-1 div.sk-parallel-item:only-child::after {width: 0;}#sk-container-id-1 div.sk-dashed-wrapped {border: 1px dashed gray;margin: 0 0.4em 0.5em 0.4em;box-sizing: border-box;padding-bottom: 0.4em;background-color: white;}#sk-container-id-1 div.sk-label label {font-family: monospace;font-weight: bold;display: inline-block;line-height: 1.2em;}#sk-container-id-1 div.sk-label-container {text-align: center;}#sk-container-id-1 div.sk-container {/* jupyter's `normalize.less` sets `[hidden] { display: none; }` but bootstrap.min.css set `[hidden] { display: none !important; }` so we also need the `!important` here to be able to override the default hidden behavior on the sphinx rendered scikit-learn.org. See: https://github.com/scikit-learn/scikit-learn/issues/21755 */display: inline-block !important;position: relative;}#sk-container-id-1 div.sk-text-repr-fallback {display: none;}</style><div id=\"sk-container-id-1\" class=\"sk-top-container\"><div class=\"sk-text-repr-fallback\"><pre>LogisticRegression(random_state=0)</pre><b>In a Jupyter environment, please rerun this cell to show the HTML representation or trust the notebook. <br />On GitHub, the HTML representation is unable to render, please try loading this page with nbviewer.org.</b></div><div class=\"sk-container\" hidden><div class=\"sk-item\"><div class=\"sk-estimator sk-toggleable\"><input class=\"sk-toggleable__control sk-hidden--visually\" id=\"sk-estimator-id-1\" type=\"checkbox\" checked><label for=\"sk-estimator-id-1\" class=\"sk-toggleable__label sk-toggleable__label-arrow\">LogisticRegression</label><div class=\"sk-toggleable__content\"><pre>LogisticRegression(random_state=0)</pre></div></div></div></div></div>"
      ],
      "text/plain": [
       "LogisticRegression(random_state=0)"
      ]
     },
     "execution_count": 10,
     "metadata": {},
     "output_type": "execute_result"
    }
   ],
   "source": [
    "\n",
    "#training logistic classification model\n",
    "from sklearn.linear_model import LogisticRegression\n",
    "classifier = LogisticRegression(random_state = 0)\n",
    "classifier.fit(x_train, y_train)"
   ]
  },
  {
   "cell_type": "code",
   "execution_count": 11,
   "id": "937310e9",
   "metadata": {},
   "outputs": [],
   "source": [
    "y_pred = classifier.predict(x_test)"
   ]
  },
  {
   "cell_type": "code",
   "execution_count": 12,
   "id": "ebcc0cfa",
   "metadata": {},
   "outputs": [
    {
     "data": {
      "text/plain": [
       "array([1, 3, 2, 1, 2, 1, 1, 3, 2, 2, 3, 3, 1, 2, 3, 2, 1, 1, 2, 1, 2, 1,\n",
       "       1, 2, 2, 2, 2, 2, 2, 3, 1, 1, 2, 1, 1, 1], dtype=int64)"
      ]
     },
     "execution_count": 12,
     "metadata": {},
     "output_type": "execute_result"
    }
   ],
   "source": [
    "y_pred"
   ]
  },
  {
   "cell_type": "code",
   "execution_count": 13,
   "id": "17d07222",
   "metadata": {},
   "outputs": [
    {
     "name": "stdout",
     "output_type": "stream",
     "text": [
      "[[14  0  0]\n",
      " [ 1 15  0]\n",
      " [ 0  0  6]]\n",
      "97.22222222222221\n"
     ]
    }
   ],
   "source": [
    "from sklearn.metrics import confusion_matrix , accuracy_score\n",
    "y_pred = classifier.predict(x_test)\n",
    "cm = confusion_matrix(y_test, y_pred)\n",
    "print(cm)\n",
    "print(accuracy_score(y_test, y_pred)*100)"
   ]
  },
  {
   "cell_type": "code",
   "execution_count": null,
   "id": "35369687",
   "metadata": {},
   "outputs": [],
   "source": []
  }
 ],
 "metadata": {
  "kernelspec": {
   "display_name": "Python 3 (ipykernel)",
   "language": "python",
   "name": "python3"
  },
  "language_info": {
   "codemirror_mode": {
    "name": "ipython",
    "version": 3
   },
   "file_extension": ".py",
   "mimetype": "text/x-python",
   "name": "python",
   "nbconvert_exporter": "python",
   "pygments_lexer": "ipython3",
   "version": "3.11.5"
  }
 },
 "nbformat": 4,
 "nbformat_minor": 5
}
