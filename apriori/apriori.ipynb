{
 "cells": [
  {
   "cell_type": "code",
   "execution_count": 1,
   "id": "cd9a686c",
   "metadata": {},
   "outputs": [],
   "source": [
    "import pandas as pd\n",
    "import numpy as np \n",
    "import matplotlib.pyplot as plt"
   ]
  },
  {
   "cell_type": "code",
   "execution_count": 6,
   "id": "ded13c55",
   "metadata": {},
   "outputs": [],
   "source": [
    "#importing the dataset\n",
    "dataset = pd.read_csv('Market_Basket_Optimisation.csv', header = None)\n",
    "transaction = []\n",
    "for i in range(0,7501):\n",
    "    transaction.append([str(dataset.values[i,j]) for j in range(0,20)])\n",
    "\n"
   ]
  },
  {
   "cell_type": "code",
   "execution_count": 12,
   "id": "993687af",
   "metadata": {},
   "outputs": [],
   "source": [
    "#Training the Apriori model on the dataset\n",
    "from apyori import apriori\n",
    "rules = apriori(transactions = transaction, min_support = 0.003, min_confidence = 0.2, min_lift = 3, min_length = 2, max_length = 2)\n"
   ]
  },
  {
   "cell_type": "code",
   "execution_count": 17,
   "id": "0e2f216c",
   "metadata": {},
   "outputs": [
    {
     "data": {
      "text/plain": [
       "[]"
      ]
     },
     "execution_count": 17,
     "metadata": {},
     "output_type": "execute_result"
    }
   ],
   "source": [
    "# visualising the results\n",
    "results = list(rules)\n",
    "results\n"
   ]
  },
  {
   "cell_type": "code",
   "execution_count": 18,
   "id": "061da538",
   "metadata": {},
   "outputs": [
    {
     "ename": "TypeError",
     "evalue": "Column 'Lift' has dtype object, cannot use method 'nlargest' with this dtype",
     "output_type": "error",
     "traceback": [
      "\u001b[1;31m---------------------------------------------------------------------------\u001b[0m",
      "\u001b[1;31mTypeError\u001b[0m                                 Traceback (most recent call last)",
      "Cell \u001b[1;32mIn[18], line 15\u001b[0m\n\u001b[0;32m     12\u001b[0m resultsinDataFrame\n\u001b[0;32m     14\u001b[0m \u001b[38;5;66;03m## Displaying the results sorted by descending lifts\u001b[39;00m\n\u001b[1;32m---> 15\u001b[0m resultsinDataFrame\u001b[38;5;241m.\u001b[39mnlargest(n \u001b[38;5;241m=\u001b[39m \u001b[38;5;241m10\u001b[39m, columns \u001b[38;5;241m=\u001b[39m \u001b[38;5;124m'\u001b[39m\u001b[38;5;124mLift\u001b[39m\u001b[38;5;124m'\u001b[39m)\n",
      "File \u001b[1;32m~\\anaconda3\\Lib\\site-packages\\pandas\\core\\frame.py:7203\u001b[0m, in \u001b[0;36mDataFrame.nlargest\u001b[1;34m(self, n, columns, keep)\u001b[0m\n\u001b[0;32m   7098\u001b[0m \u001b[38;5;28;01mdef\u001b[39;00m \u001b[38;5;21mnlargest\u001b[39m(\u001b[38;5;28mself\u001b[39m, n: \u001b[38;5;28mint\u001b[39m, columns: IndexLabel, keep: \u001b[38;5;28mstr\u001b[39m \u001b[38;5;241m=\u001b[39m \u001b[38;5;124m\"\u001b[39m\u001b[38;5;124mfirst\u001b[39m\u001b[38;5;124m\"\u001b[39m) \u001b[38;5;241m-\u001b[39m\u001b[38;5;241m>\u001b[39m DataFrame:\n\u001b[0;32m   7099\u001b[0m \u001b[38;5;250m    \u001b[39m\u001b[38;5;124;03m\"\"\"\u001b[39;00m\n\u001b[0;32m   7100\u001b[0m \u001b[38;5;124;03m    Return the first `n` rows ordered by `columns` in descending order.\u001b[39;00m\n\u001b[0;32m   7101\u001b[0m \n\u001b[1;32m   (...)\u001b[0m\n\u001b[0;32m   7201\u001b[0m \u001b[38;5;124;03m    Brunei      434000    12128      BN\u001b[39;00m\n\u001b[0;32m   7202\u001b[0m \u001b[38;5;124;03m    \"\"\"\u001b[39;00m\n\u001b[1;32m-> 7203\u001b[0m     \u001b[38;5;28;01mreturn\u001b[39;00m selectn\u001b[38;5;241m.\u001b[39mSelectNFrame(\u001b[38;5;28mself\u001b[39m, n\u001b[38;5;241m=\u001b[39mn, keep\u001b[38;5;241m=\u001b[39mkeep, columns\u001b[38;5;241m=\u001b[39mcolumns)\u001b[38;5;241m.\u001b[39mnlargest()\n",
      "File \u001b[1;32m~\\anaconda3\\Lib\\site-packages\\pandas\\core\\methods\\selectn.py:54\u001b[0m, in \u001b[0;36mSelectN.nlargest\u001b[1;34m(self)\u001b[0m\n\u001b[0;32m     52\u001b[0m \u001b[38;5;129m@final\u001b[39m\n\u001b[0;32m     53\u001b[0m \u001b[38;5;28;01mdef\u001b[39;00m \u001b[38;5;21mnlargest\u001b[39m(\u001b[38;5;28mself\u001b[39m):\n\u001b[1;32m---> 54\u001b[0m     \u001b[38;5;28;01mreturn\u001b[39;00m \u001b[38;5;28mself\u001b[39m\u001b[38;5;241m.\u001b[39mcompute(\u001b[38;5;124m\"\u001b[39m\u001b[38;5;124mnlargest\u001b[39m\u001b[38;5;124m\"\u001b[39m)\n",
      "File \u001b[1;32m~\\anaconda3\\Lib\\site-packages\\pandas\\core\\methods\\selectn.py:194\u001b[0m, in \u001b[0;36mSelectNFrame.compute\u001b[1;34m(self, method)\u001b[0m\n\u001b[0;32m    192\u001b[0m     dtype \u001b[38;5;241m=\u001b[39m frame[column]\u001b[38;5;241m.\u001b[39mdtype\n\u001b[0;32m    193\u001b[0m     \u001b[38;5;28;01mif\u001b[39;00m \u001b[38;5;129;01mnot\u001b[39;00m \u001b[38;5;28mself\u001b[39m\u001b[38;5;241m.\u001b[39mis_valid_dtype_n_method(dtype):\n\u001b[1;32m--> 194\u001b[0m         \u001b[38;5;28;01mraise\u001b[39;00m \u001b[38;5;167;01mTypeError\u001b[39;00m(\n\u001b[0;32m    195\u001b[0m             \u001b[38;5;124mf\u001b[39m\u001b[38;5;124m\"\u001b[39m\u001b[38;5;124mColumn \u001b[39m\u001b[38;5;132;01m{\u001b[39;00m\u001b[38;5;28mrepr\u001b[39m(column)\u001b[38;5;132;01m}\u001b[39;00m\u001b[38;5;124m has dtype \u001b[39m\u001b[38;5;132;01m{\u001b[39;00mdtype\u001b[38;5;132;01m}\u001b[39;00m\u001b[38;5;124m, \u001b[39m\u001b[38;5;124m\"\u001b[39m\n\u001b[0;32m    196\u001b[0m             \u001b[38;5;124mf\u001b[39m\u001b[38;5;124m\"\u001b[39m\u001b[38;5;124mcannot use method \u001b[39m\u001b[38;5;132;01m{\u001b[39;00m\u001b[38;5;28mrepr\u001b[39m(method)\u001b[38;5;132;01m}\u001b[39;00m\u001b[38;5;124m with this dtype\u001b[39m\u001b[38;5;124m\"\u001b[39m\n\u001b[0;32m    197\u001b[0m         )\n\u001b[0;32m    199\u001b[0m \u001b[38;5;28;01mdef\u001b[39;00m \u001b[38;5;21mget_indexer\u001b[39m(current_indexer, other_indexer):\n\u001b[0;32m    200\u001b[0m \u001b[38;5;250m    \u001b[39m\u001b[38;5;124;03m\"\"\"\u001b[39;00m\n\u001b[0;32m    201\u001b[0m \u001b[38;5;124;03m    Helper function to concat `current_indexer` and `other_indexer`\u001b[39;00m\n\u001b[0;32m    202\u001b[0m \u001b[38;5;124;03m    depending on `method`\u001b[39;00m\n\u001b[0;32m    203\u001b[0m \u001b[38;5;124;03m    \"\"\"\u001b[39;00m\n",
      "\u001b[1;31mTypeError\u001b[0m: Column 'Lift' has dtype object, cannot use method 'nlargest' with this dtype"
     ]
    }
   ],
   "source": [
    "## Putting the results well organised into a Pandas DataFrame\n",
    "def inspect(results):\n",
    "    lhs         = [tuple(result[2][0][0])[0] for result in results]\n",
    "    rhs         = [tuple(result[2][0][1])[0] for result in results]\n",
    "    supports    = [result[1] for result in results]\n",
    "    confidences = [result[2][0][2] for result in results]\n",
    "    lifts       = [result[2][0][3] for result in results]\n",
    "    return list(zip(lhs, rhs, supports, confidences, lifts))\n",
    "resultsinDataFrame = pd.DataFrame(inspect(results), columns = ['Left Hand Side', 'Right Hand Side', 'Support', 'Confidence', 'Lift'])\n",
    "\n",
    "## Displaying the results non sorted\n",
    "resultsinDataFrame\n",
    "\n",
    "## Displaying the results sorted by descending lifts\n",
    "resultsinDataFrame.nlargest(n = 10, columns = 'Lift')"
   ]
  },
  {
   "cell_type": "code",
   "execution_count": null,
   "id": "d739d6d2",
   "metadata": {},
   "outputs": [],
   "source": []
  }
 ],
 "metadata": {
  "kernelspec": {
   "display_name": "Python 3 (ipykernel)",
   "language": "python",
   "name": "python3"
  },
  "language_info": {
   "codemirror_mode": {
    "name": "ipython",
    "version": 3
   },
   "file_extension": ".py",
   "mimetype": "text/x-python",
   "name": "python",
   "nbconvert_exporter": "python",
   "pygments_lexer": "ipython3",
   "version": "3.11.5"
  }
 },
 "nbformat": 4,
 "nbformat_minor": 5
}
