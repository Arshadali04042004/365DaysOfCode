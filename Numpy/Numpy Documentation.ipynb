{
 "cells": [
  {
   "cell_type": "markdown",
   "id": "1fa32026",
   "metadata": {},
   "source": [
    "# Numpy Documentation"
   ]
  },
  {
   "cell_type": "code",
   "execution_count": 1,
   "id": "6c01a92a",
   "metadata": {},
   "outputs": [],
   "source": [
    "import numpy as np"
   ]
  },
  {
   "cell_type": "markdown",
   "id": "8824fbe1",
   "metadata": {},
   "source": [
    "## *Creating a numpy array using python list*"
   ]
  },
  {
   "cell_type": "code",
   "execution_count": 2,
   "id": "b6c6ff1f",
   "metadata": {},
   "outputs": [
    {
     "name": "stdout",
     "output_type": "stream",
     "text": [
      "int32\n",
      "<class 'numpy.ndarray'>\n"
     ]
    },
    {
     "data": {
      "text/plain": [
       "array([2, 3, 4, 5])"
      ]
     },
     "execution_count": 2,
     "metadata": {},
     "output_type": "execute_result"
    }
   ],
   "source": [
    "# Creating a  1-D numpy array\n",
    "myarr = np.array([2,3,4,5])\n",
    "print(myarr.dtype)\n",
    "print(type(myarr))    #NumPy’s array class is called ndarray\n",
    "myarr"
   ]
  },
  {
   "cell_type": "code",
   "execution_count": 3,
   "id": "0b5bac6f",
   "metadata": {},
   "outputs": [
    {
     "name": "stdout",
     "output_type": "stream",
     "text": [
      "int32\n"
     ]
    },
    {
     "data": {
      "text/plain": [
       "array([[2, 3, 4, 5],\n",
       "       [6, 7, 8, 9]])"
      ]
     },
     "execution_count": 3,
     "metadata": {},
     "output_type": "execute_result"
    }
   ],
   "source": [
    "# Creating a 2-D numpy array\n",
    "myarr2 = np.array([[2,3,4,5],[6,7,8,9]])\n",
    "print(myarr.dtype)\n",
    "myarr2"
   ]
  },
  {
   "cell_type": "code",
   "execution_count": 4,
   "id": "9dcaaf7f",
   "metadata": {},
   "outputs": [
    {
     "name": "stdout",
     "output_type": "stream",
     "text": [
      "1\n",
      "(4,)\n",
      "int32\n",
      "4\n",
      "<memory at 0x00000216875F9B40>\n"
     ]
    }
   ],
   "source": [
    "#Some function of ndarray----\n",
    "print(myarr.ndim)         #returns dimension of the ndarray\n",
    "print(myarr.shape)        #returns shape as Rows X columns\n",
    "print(myarr.dtype)        #returns type of value contained such as int8,int16,int32,int64, or as float8,float16....float64\n",
    "print(myarr.itemsize)     #returns item size of th ndarray\n",
    "print(myarr.data)         #returns memory address of the ndarray stored."
   ]
  },
  {
   "cell_type": "markdown",
   "id": "d630517e",
   "metadata": {},
   "source": [
    "### -->Using dtype argument to alter the dtype of data"
   ]
  },
  {
   "cell_type": "code",
   "execution_count": 5,
   "id": "1a8e1bc7",
   "metadata": {},
   "outputs": [
    {
     "name": "stdout",
     "output_type": "stream",
     "text": [
      "complex128\n"
     ]
    },
    {
     "data": {
      "text/plain": [
       "array([[1.+0.j, 2.+0.j],\n",
       "       [3.+0.j, 4.+0.j]])"
      ]
     },
     "execution_count": 5,
     "metadata": {},
     "output_type": "execute_result"
    }
   ],
   "source": [
    "myarr3 = np.array([[1,2],[3,4]],dtype = complex)\n",
    "print(myarr3.dtype)\n",
    "myarr3"
   ]
  },
  {
   "cell_type": "code",
   "execution_count": 6,
   "id": "32885cac",
   "metadata": {},
   "outputs": [
    {
     "data": {
      "text/plain": [
       "array([0., 0., 0.])"
      ]
     },
     "execution_count": 6,
     "metadata": {},
     "output_type": "execute_result"
    }
   ],
   "source": [
    "myarr4 = np.zeros(3)\n",
    "myarr4"
   ]
  },
  {
   "cell_type": "code",
   "execution_count": 7,
   "id": "1f6a1228",
   "metadata": {},
   "outputs": [
    {
     "data": {
      "text/plain": [
       "array([1., 1., 1., 1., 1.])"
      ]
     },
     "execution_count": 7,
     "metadata": {},
     "output_type": "execute_result"
    }
   ],
   "source": [
    "np.ones(5)"
   ]
  },
  {
   "cell_type": "code",
   "execution_count": 8,
   "id": "a7cc3207",
   "metadata": {},
   "outputs": [
    {
     "data": {
      "text/plain": [
       "array([2, 4, 6, 8])"
      ]
     },
     "execution_count": 8,
     "metadata": {},
     "output_type": "execute_result"
    }
   ],
   "source": [
    "np.arange(2, 9, 2)"
   ]
  },
  {
   "cell_type": "code",
   "execution_count": 9,
   "id": "7baa4a2c",
   "metadata": {},
   "outputs": [
    {
     "data": {
      "text/plain": [
       "array([0, 1, 2, 3])"
      ]
     },
     "execution_count": 9,
     "metadata": {},
     "output_type": "execute_result"
    }
   ],
   "source": [
    "np.arange(4)"
   ]
  },
  {
   "cell_type": "code",
   "execution_count": 10,
   "id": "9d13264b",
   "metadata": {},
   "outputs": [
    {
     "data": {
      "text/plain": [
       "array([ 0. ,  2.5,  5. ,  7.5, 10. ])"
      ]
     },
     "execution_count": 10,
     "metadata": {},
     "output_type": "execute_result"
    }
   ],
   "source": [
    "np.linspace(0, 10, num=5)"
   ]
  },
  {
   "cell_type": "code",
   "execution_count": 11,
   "id": "18d967d5",
   "metadata": {},
   "outputs": [
    {
     "data": {
      "text/plain": [
       "array([1, 1], dtype=int64)"
      ]
     },
     "execution_count": 11,
     "metadata": {},
     "output_type": "execute_result"
    }
   ],
   "source": [
    "x = np.ones(2, dtype=np.int64)\n",
    "x"
   ]
  },
  {
   "cell_type": "markdown",
   "id": "9e9456e9",
   "metadata": {},
   "source": [
    "## *Arithmetic with NumPy Arrays*"
   ]
  },
  {
   "cell_type": "code",
   "execution_count": 12,
   "id": "08b69cba",
   "metadata": {},
   "outputs": [
    {
     "data": {
      "text/plain": [
       "array([[ 1,  4,  9],\n",
       "       [16, 25, 36]])"
      ]
     },
     "execution_count": 12,
     "metadata": {},
     "output_type": "execute_result"
    }
   ],
   "source": [
    "myarr4 = np.array([[1,2,3],[4,5,6]])\n",
    "myarr4_sq = myarr4*myarr4\n",
    "myarr4_sq"
   ]
  },
  {
   "cell_type": "code",
   "execution_count": 13,
   "id": "2a65a31c",
   "metadata": {},
   "outputs": [
    {
     "data": {
      "text/plain": [
       "array([[ 3,  5,  7],\n",
       "       [ 9, 11, 13]])"
      ]
     },
     "execution_count": 13,
     "metadata": {},
     "output_type": "execute_result"
    }
   ],
   "source": [
    "myarr5 = np.array([[2,3,4],[5,6,7]])\n",
    "sum_myarr = myarr4+myarr5\n",
    "sum_myarr"
   ]
  },
  {
   "cell_type": "code",
   "execution_count": 14,
   "id": "72e8b6d8",
   "metadata": {},
   "outputs": [
    {
     "data": {
      "text/plain": [
       "array([[-1, -1, -1],\n",
       "       [-1, -1, -1]])"
      ]
     },
     "execution_count": 14,
     "metadata": {},
     "output_type": "execute_result"
    }
   ],
   "source": [
    "sub = myarr4 - myarr5\n",
    "sub"
   ]
  },
  {
   "cell_type": "code",
   "execution_count": 15,
   "id": "9adc457b",
   "metadata": {},
   "outputs": [
    {
     "data": {
      "text/plain": [
       "array([[1.        , 0.5       , 0.33333333],\n",
       "       [0.25      , 0.2       , 0.16666667]])"
      ]
     },
     "execution_count": 15,
     "metadata": {},
     "output_type": "execute_result"
    }
   ],
   "source": [
    "1/myarr4"
   ]
  },
  {
   "cell_type": "code",
   "execution_count": 17,
   "id": "465ddc7d",
   "metadata": {},
   "outputs": [
    {
     "data": {
      "text/plain": [
       "array([[1, 2, 3],\n",
       "       [4, 5, 6],\n",
       "       [7, 8, 9]])"
      ]
     },
     "execution_count": 17,
     "metadata": {},
     "output_type": "execute_result"
    }
   ],
   "source": [
    "# Slicing the 3d array\n",
    "myarr3d = np.array([[1,2,3],[4,5,6],[7,8,9]])\n",
    "myarr3d"
   ]
  },
  {
   "cell_type": "code",
   "execution_count": 23,
   "id": "dfa4fd93",
   "metadata": {},
   "outputs": [
    {
     "name": "stdout",
     "output_type": "stream",
     "text": [
      "first row [1 2 3]\n",
      "sec row [4 5 6]\n",
      "third row [7 8 9]\n"
     ]
    }
   ],
   "source": [
    "# selecting the first row\n",
    "print(\"first row\",myarr3d[0])\n",
    "#selecting the sec row \n",
    "print(\"sec row\",myarr3d[1])\n",
    "#selecting the third row\n",
    "print(\"third row\",myarr3d[2])\n"
   ]
  },
  {
   "cell_type": "code",
   "execution_count": 34,
   "id": "ae9ae107",
   "metadata": {},
   "outputs": [
    {
     "name": "stdout",
     "output_type": "stream",
     "text": [
      "1st col [[1]\n",
      " [4]\n",
      " [7]]\n",
      "2nd col [[2]\n",
      " [5]\n",
      " [8]]\n",
      "3rd col [[3]\n",
      " [6]\n",
      " [9]]\n"
     ]
    }
   ],
   "source": [
    "# selecting columns\n",
    "print(\"1st col\", myarr3d[:,:1])\n",
    "print(\"2nd col\", myarr3d[:,1:2])\n",
    "print(\"3rd col\", myarr3d[:,2:3])\n"
   ]
  },
  {
   "cell_type": "code",
   "execution_count": 35,
   "id": "aff6e47c",
   "metadata": {},
   "outputs": [
    {
     "data": {
      "text/plain": [
       "array([[1, 2],\n",
       "       [4, 5],\n",
       "       [7, 8]])"
      ]
     },
     "execution_count": 35,
     "metadata": {},
     "output_type": "execute_result"
    }
   ],
   "source": [
    "#selecting two vertical cols\n",
    "myarr3d[:,:2]"
   ]
  },
  {
   "cell_type": "code",
   "execution_count": 46,
   "id": "be152b4e",
   "metadata": {},
   "outputs": [
    {
     "data": {
      "text/plain": [
       "array([[2, 3],\n",
       "       [5, 6],\n",
       "       [8, 9]])"
      ]
     },
     "execution_count": 46,
     "metadata": {},
     "output_type": "execute_result"
    }
   ],
   "source": [
    "myarr3d[:,1:]"
   ]
  },
  {
   "cell_type": "code",
   "execution_count": 47,
   "id": "f758c0c2",
   "metadata": {},
   "outputs": [
    {
     "data": {
      "text/plain": [
       "array([[1, 2],\n",
       "       [4, 5]])"
      ]
     },
     "execution_count": 47,
     "metadata": {},
     "output_type": "execute_result"
    }
   ],
   "source": [
    "myarr3d[:2,:2]"
   ]
  },
  {
   "cell_type": "code",
   "execution_count": 49,
   "id": "92f5e5c9",
   "metadata": {},
   "outputs": [
    {
     "data": {
      "text/plain": [
       "array([[9]])"
      ]
     },
     "execution_count": 49,
     "metadata": {},
     "output_type": "execute_result"
    }
   ],
   "source": [
    "myarr3d[2:,2:]"
   ]
  },
  {
   "cell_type": "markdown",
   "id": "1216a95d",
   "metadata": {},
   "source": [
    "## Pseudorandom Number Generation"
   ]
  },
  {
   "cell_type": "code",
   "execution_count": 51,
   "id": "103d4ba3",
   "metadata": {},
   "outputs": [
    {
     "data": {
      "text/plain": [
       "array([[-0.49065221, -1.38088471, -1.33493431,  0.0396653 ],\n",
       "       [ 1.73063151,  0.27625077,  0.91006528,  0.41315968],\n",
       "       [-0.22108598,  0.10005844,  0.93928527, -0.96908012],\n",
       "       [ 1.46018922, -1.22303318, -0.25171057,  0.75833563]])"
      ]
     },
     "execution_count": 51,
     "metadata": {},
     "output_type": "execute_result"
    }
   ],
   "source": [
    "samples = np.random.standard_normal(size=(4, 4))\n",
    "samples"
   ]
  },
  {
   "cell_type": "code",
   "execution_count": null,
   "id": "e37f305b",
   "metadata": {},
   "outputs": [],
   "source": []
  }
 ],
 "metadata": {
  "kernelspec": {
   "display_name": "Python 3 (ipykernel)",
   "language": "python",
   "name": "python3"
  },
  "language_info": {
   "codemirror_mode": {
    "name": "ipython",
    "version": 3
   },
   "file_extension": ".py",
   "mimetype": "text/x-python",
   "name": "python",
   "nbconvert_exporter": "python",
   "pygments_lexer": "ipython3",
   "version": "3.11.5"
  }
 },
 "nbformat": 4,
 "nbformat_minor": 5
}
