{
 "cells": [
  {
   "cell_type": "markdown",
   "id": "1fa32026",
   "metadata": {},
   "source": [
    "# Numpy Documentation"
   ]
  },
  {
   "cell_type": "code",
   "execution_count": 1,
   "id": "6c01a92a",
   "metadata": {},
   "outputs": [],
   "source": [
    "import numpy as np"
   ]
  },
  {
   "cell_type": "markdown",
   "id": "8824fbe1",
   "metadata": {},
   "source": [
    "## *Creating a numpy array using python list*"
   ]
  },
  {
   "cell_type": "code",
   "execution_count": 2,
   "id": "b6c6ff1f",
   "metadata": {},
   "outputs": [
    {
     "name": "stdout",
     "output_type": "stream",
     "text": [
      "int32\n",
      "<class 'numpy.ndarray'>\n"
     ]
    },
    {
     "data": {
      "text/plain": [
       "array([2, 3, 4, 5])"
      ]
     },
     "execution_count": 2,
     "metadata": {},
     "output_type": "execute_result"
    }
   ],
   "source": [
    "# Creating a  1-D numpy array\n",
    "myarr = np.array([2,3,4,5])\n",
    "print(myarr.dtype)\n",
    "print(type(myarr))    #NumPy’s array class is called ndarray\n",
    "myarr"
   ]
  },
  {
   "cell_type": "code",
   "execution_count": 3,
   "id": "0b5bac6f",
   "metadata": {},
   "outputs": [
    {
     "name": "stdout",
     "output_type": "stream",
     "text": [
      "int32\n"
     ]
    },
    {
     "data": {
      "text/plain": [
       "array([[2, 3, 4, 5],\n",
       "       [6, 7, 8, 9]])"
      ]
     },
     "execution_count": 3,
     "metadata": {},
     "output_type": "execute_result"
    }
   ],
   "source": [
    "# Creating a 2-D numpy array\n",
    "myarr2 = np.array([[2,3,4,5],[6,7,8,9]])\n",
    "print(myarr.dtype)\n",
    "myarr2"
   ]
  },
  {
   "cell_type": "code",
   "execution_count": 4,
   "id": "9dcaaf7f",
   "metadata": {},
   "outputs": [
    {
     "name": "stdout",
     "output_type": "stream",
     "text": [
      "1\n",
      "(4,)\n",
      "int32\n",
      "4\n",
      "<memory at 0x00000216875F9B40>\n"
     ]
    }
   ],
   "source": [
    "#Some function of ndarray----\n",
    "print(myarr.ndim)         #returns dimension of the ndarray\n",
    "print(myarr.shape)        #returns shape as Rows X columns\n",
    "print(myarr.dtype)        #returns type of value contained such as int8,int16,int32,int64, or as float8,float16....float64\n",
    "print(myarr.itemsize)     #returns item size of th ndarray\n",
    "print(myarr.data)         #returns memory address of the ndarray stored."
   ]
  },
  {
   "cell_type": "markdown",
   "id": "d630517e",
   "metadata": {},
   "source": [
    "### -->Using dtype argument to alter the dtype of data"
   ]
  },
  {
   "cell_type": "code",
   "execution_count": 5,
   "id": "1a8e1bc7",
   "metadata": {},
   "outputs": [
    {
     "name": "stdout",
     "output_type": "stream",
     "text": [
      "complex128\n"
     ]
    },
    {
     "data": {
      "text/plain": [
       "array([[1.+0.j, 2.+0.j],\n",
       "       [3.+0.j, 4.+0.j]])"
      ]
     },
     "execution_count": 5,
     "metadata": {},
     "output_type": "execute_result"
    }
   ],
   "source": [
    "myarr3 = np.array([[1,2],[3,4]],dtype = complex)\n",
    "print(myarr3.dtype)\n",
    "myarr3"
   ]
  },
  {
   "cell_type": "code",
   "execution_count": 6,
   "id": "32885cac",
   "metadata": {},
   "outputs": [
    {
     "data": {
      "text/plain": [
       "array([0., 0., 0.])"
      ]
     },
     "execution_count": 6,
     "metadata": {},
     "output_type": "execute_result"
    }
   ],
   "source": [
    "myarr4 = np.zeros(3)\n",
    "myarr4"
   ]
  },
  {
   "cell_type": "code",
   "execution_count": 7,
   "id": "1f6a1228",
   "metadata": {},
   "outputs": [
    {
     "data": {
      "text/plain": [
       "array([1., 1., 1., 1., 1.])"
      ]
     },
     "execution_count": 7,
     "metadata": {},
     "output_type": "execute_result"
    }
   ],
   "source": [
    "np.ones(5)"
   ]
  },
  {
   "cell_type": "code",
   "execution_count": 8,
   "id": "a7cc3207",
   "metadata": {},
   "outputs": [
    {
     "data": {
      "text/plain": [
       "array([2, 4, 6, 8])"
      ]
     },
     "execution_count": 8,
     "metadata": {},
     "output_type": "execute_result"
    }
   ],
   "source": [
    "np.arange(2, 9, 2)"
   ]
  },
  {
   "cell_type": "code",
   "execution_count": 9,
   "id": "7baa4a2c",
   "metadata": {},
   "outputs": [
    {
     "data": {
      "text/plain": [
       "array([0, 1, 2, 3])"
      ]
     },
     "execution_count": 9,
     "metadata": {},
     "output_type": "execute_result"
    }
   ],
   "source": [
    "np.arange(4)"
   ]
  },
  {
   "cell_type": "code",
   "execution_count": 10,
   "id": "9d13264b",
   "metadata": {},
   "outputs": [
    {
     "data": {
      "text/plain": [
       "array([ 0. ,  2.5,  5. ,  7.5, 10. ])"
      ]
     },
     "execution_count": 10,
     "metadata": {},
     "output_type": "execute_result"
    }
   ],
   "source": [
    "np.linspace(0, 10, num=5)"
   ]
  },
  {
   "cell_type": "code",
   "execution_count": 11,
   "id": "18d967d5",
   "metadata": {},
   "outputs": [
    {
     "data": {
      "text/plain": [
       "array([1, 1], dtype=int64)"
      ]
     },
     "execution_count": 11,
     "metadata": {},
     "output_type": "execute_result"
    }
   ],
   "source": [
    "x = np.ones(2, dtype=np.int64)\n",
    "x"
   ]
  },
  {
   "cell_type": "markdown",
   "id": "2d5c203c",
   "metadata": {},
   "source": [
    "## *Arithmetic with NumPy Arrays*"
   ]
  },
  {
   "cell_type": "code",
   "execution_count": 12,
   "id": "ffa43ed7",
   "metadata": {},
   "outputs": [
    {
     "data": {
      "text/plain": [
       "array([[ 1,  4,  9],\n",
       "       [16, 25, 36]])"
      ]
     },
     "execution_count": 12,
     "metadata": {},
     "output_type": "execute_result"
    }
   ],
   "source": [
    "myarr4 = np.array([[1,2,3],[4,5,6]])\n",
    "myarr4_sq = myarr4*myarr4\n",
    "myarr4_sq"
   ]
  },
  {
   "cell_type": "code",
   "execution_count": 13,
   "id": "17901f0a",
   "metadata": {},
   "outputs": [
    {
     "data": {
      "text/plain": [
       "array([[ 3,  5,  7],\n",
       "       [ 9, 11, 13]])"
      ]
     },
     "execution_count": 13,
     "metadata": {},
     "output_type": "execute_result"
    }
   ],
   "source": [
    "myarr5 = np.array([[2,3,4],[5,6,7]])\n",
    "sum_myarr = myarr4+myarr5\n",
    "sum_myarr"
   ]
  },
  {
   "cell_type": "code",
   "execution_count": 14,
   "id": "52d86774",
   "metadata": {},
   "outputs": [
    {
     "data": {
      "text/plain": [
       "array([[-1, -1, -1],\n",
       "       [-1, -1, -1]])"
      ]
     },
     "execution_count": 14,
     "metadata": {},
     "output_type": "execute_result"
    }
   ],
   "source": [
    "sub = myarr4 - myarr5\n",
    "sub"
   ]
  },
  {
   "cell_type": "code",
   "execution_count": 15,
   "id": "ca3d513f",
   "metadata": {},
   "outputs": [
    {
     "data": {
      "text/plain": [
       "array([[1.        , 0.5       , 0.33333333],\n",
       "       [0.25      , 0.2       , 0.16666667]])"
      ]
     },
     "execution_count": 15,
     "metadata": {},
     "output_type": "execute_result"
    }
   ],
   "source": [
    "1/myarr4"
   ]
  },
  {
   "cell_type": "code",
   "execution_count": 17,
   "id": "217b6710",
   "metadata": {},
   "outputs": [
    {
     "data": {
      "text/plain": [
       "array([[1, 2, 3],\n",
       "       [4, 5, 6],\n",
       "       [7, 8, 9]])"
      ]
     },
     "execution_count": 17,
     "metadata": {},
     "output_type": "execute_result"
    }
   ],
   "source": [
    "# Slicing the 3d array\n",
    "myarr3d = np.array([[1,2,3],[4,5,6],[7,8,9]])\n",
    "myarr3d"
   ]
  },
  {
   "cell_type": "code",
   "execution_count": null,
   "id": "c9a4e96d",
   "metadata": {},
   "outputs": [],
   "source": []
  }
 ],
 "metadata": {
  "kernelspec": {
   "display_name": "Python 3 (ipykernel)",
   "language": "python",
   "name": "python3"
  },
  "language_info": {
   "codemirror_mode": {
    "name": "ipython",
    "version": 3
   },
   "file_extension": ".py",
   "mimetype": "text/x-python",
   "name": "python",
   "nbconvert_exporter": "python",
   "pygments_lexer": "ipython3",
   "version": "3.11.5"
  }
 },
 "nbformat": 4,
 "nbformat_minor": 5
}
